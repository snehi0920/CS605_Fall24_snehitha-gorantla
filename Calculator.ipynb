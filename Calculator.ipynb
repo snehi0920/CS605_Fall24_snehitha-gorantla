{
  "nbformat": 4,
  "nbformat_minor": 0,
  "metadata": {
    "colab": {
      "provenance": []
    },
    "kernelspec": {
      "name": "python3",
      "display_name": "Python 3"
    },
    "language_info": {
      "name": "python"
    }
  },
  "cells": [
    {
      "cell_type": "code",
      "execution_count": null,
      "metadata": {
        "colab": {
          "base_uri": "https://localhost:8080/"
        },
        "id": "c7HkIdSqWsjK",
        "outputId": "0e172a26-f08c-4586-fbe0-a3647b04ee18"
      },
      "outputs": [
        {
          "output_type": "stream",
          "name": "stdout",
          "text": [
            "Select operation:\n",
            "1. Add\n",
            "2. Subtract\n",
            "3. Multiply\n",
            "4. Divide\n",
            "5. Logarithm\n",
            "6. Square Root\n",
            "Enter an operation from 1-6: 3\n",
            "Enter first number: 67\n",
            "Enter second number: 89\n",
            "67.0 * 89.0 = 5963.0\n"
          ]
        }
      ],
      "source": [
        "import math\n",
        "\n",
        "opt = input(\"Enter an operation from 1-6: \")\n",
        "print(\"Select operation:\")\n",
        "print(\"1. Add\")\n",
        "print(\"2. Subtract\")\n",
        "print(\"3. Multiply\")\n",
        "print(\"4. Divide\")\n",
        "print(\"5. Logarithm\")\n",
        "print(\"6. Square Root\")\n",
        "\n",
        "if opt in ['1', '2', '3', '4', '5', '6']:\n",
        "    if opt in ['1', '2', '3', '4']:\n",
        "        num1 = float(input(\"Enter first number: \"))\n",
        "        num2 = float(input(\"Enter second number: \"))\n",
        "\n",
        "        if opt == '1':\n",
        "            result = num1 + num2\n",
        "            print(f\"{num1} + {num2} = {result}\")\n",
        "\n",
        "        elif opt == '2':\n",
        "            result = num1 - num2\n",
        "            print(f\"{num1} - {num2} = {result}\")\n",
        "\n",
        "        elif opt == '3':\n",
        "            result = num1 * num2\n",
        "            print(f\"{num1} * {num2} = {result}\")\n",
        "\n",
        "        elif opt == '4':\n",
        "            if num2 != 0:\n",
        "                result = num1 / num2\n",
        "                print(f\"{num1} / {num2} = {result}\")\n",
        "            else:\n",
        "                print(\"Error! Division by zero is undefined.\")\n",
        "\n",
        "    elif opt == '5':\n",
        "        num = float(input(\"Enter the number: \"))\n",
        "        if num > 0:\n",
        "            result = math.log10(num)\n",
        "            print(f\"log10({num}) = {result}\")\n",
        "        else:\n",
        "            print(\"Error! Logarithm undefined for non-positive numbers.\")\n",
        "\n",
        "    elif opt == '6':\n",
        "        num = float(input(\"Enter the number: \"))\n",
        "        if num >= 0:\n",
        "            result = math.sqrt(num)\n",
        "            print(f\"√{num} = {result}\")\n",
        "        else:\n",
        "            print(\"Error! Square root undefined for negative numbers.\")\n",
        "else:\n",
        "    print(\"Invalid Input\")\n"
      ]
    },
    {
      "cell_type": "code",
      "source": [],
      "metadata": {
        "id": "mTivqDEDWujl"
      },
      "execution_count": null,
      "outputs": []
    }
  ]
}